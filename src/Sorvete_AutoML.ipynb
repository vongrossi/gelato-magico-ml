# Projeto Gelato Mágico - Utilizando Azure AutoML para Previsão de Vendas de Sorvete

## Introdução

Neste notebook, vamos implementar um modelo de previsão de vendas de sorvete usando o Azure Machine Learning com AutoML. O AutoML (Automated Machine Learning) testa automaticamente vários algoritmos e hiperparâmetros para encontrar o melhor modelo para nossos dados.

## Configuração do Ambiente

Primeiro, vamos instalar e importar as bibliotecas necessárias:

```python
# Instalação das bibliotecas necessárias (caso não estejam instaladas)
!pip install azure-identity azure-ai-ml matplotlib pandas numpy scikit-learn
```

```python
# Importações necessárias
from azure.identity import DefaultAzureCredential, InteractiveBrowserCredential
from azure.ai.ml import MLClient, command, Input, Output
from azure.ai.ml.automl import (
    classification,
    regression,
    forecasting
)
from azure.ai.ml.entities import (
    AmlCompute,
    Data,
    ManagedOnlineEndpoint,
    ManagedOnlineDeployment,
    Model,
    CodeConfiguration,
    Environment
)
import pandas as pd
import numpy as np
import matplotlib.pyplot as plt
import os
```

## Autenticação e Conexão com o Azure ML

Vamos configurar a conexão com o workspace do Azure Machine Learning:

```python
# Conectando com o workspace do Azure ML
try:
    credential = DefaultAzureCredential()
    # Verificar se a credencial pode obter token com sucesso
    credential.get_token("https://management.azure.com/.default")
except Exception as ex:
    # Usar InteractiveBrowserCredential como fallback se DefaultAzureCredential não funcionar
    credential = InteractiveBrowserCredential()

# Obter uma conexão com o workspace
ml_client = MLClient.from_config(credential=credential)
print("Conectado com sucesso ao workspace:", ml_client.workspace_name)
```

## Carregando e Preparando os Dados

Vamos carregar os dados de vendas de sorvete e preparar para o treinamento:

```python
# Carregar os dados
print("Carregando dados...")
sorvetes = pd.read_csv("sorvetes.csv")

# Exibir as primeiras linhas do dataset
print("\nPrimeiras linhas do dataset:")
sorvetes.head()
```

```python
# Verificar informações do dataset
print("\nInformações do dataset:")
sorvetes.info()

# Estatísticas descritivas
print("\nEstatísticas descritivas:")
sorvetes.describe()
```

```python
# Verificar valores nulos
print("\nVerificando valores nulos:")
sorvetes.isnull().sum()
```

### Visualização dos Dados

Vamos analisar visualmente a relação entre temperatura e vendas:

```python
# Gráfico de dispersão: Temperatura x Vendas
plt.figure(figsize=(10, 6))
plt.scatter(sorvetes['temperatura'], sorvetes['vendas'])
plt.title('Relação entre Temperatura e Vendas de Sorvete')
plt.xlabel('Temperatura (°C)')
plt.ylabel('Vendas (unidades)')
plt.grid(True)
plt.show()

# Calcular a correlação
correlation = sorvetes['temperatura'].corr(sorvetes['vendas'])
print(f"Correlação entre temperatura e vendas: {correlation:.4f}")
```

## Preparando Dados para o Azure ML

Vamos registrar os dados no Azure ML para uso no treinamento:

```python
# Salvar os dados para CSV para registro no Azure ML
sorvetes.to_csv("sorvete_ml.csv", index=False)

# Registrar os dados no Azure ML
data = Data(
    path="sorvete_ml.csv",
    type="uri_file",
    description="Dados de vendas de sorvete baseados na temperatura",
    name="sorvete-dados"
)
registered_data = ml_client.data.create_or_update(data)
print("Dados registrados com ID:", registered_data.id)
```

## Configurando o Experimento de AutoML

Agora vamos configurar o experimento de AutoML para regressão:

```python
# Verificar clusters de computação disponíveis
compute_targets = ml_client.compute.list()
compute_cluster_name = "ml-dio-projeto-01-compute-cluster"

# Verificar se o cluster desejado existe
cluster_exists = False
for compute in compute_targets:
    if compute.name == compute_cluster_name:
        cluster_exists = True
        break

# Criar um novo cluster se não existir
if not cluster_exists:
    print(f"Criando um novo cluster de computação: {compute_cluster_name}")
    compute_config = AmlCompute(
        name=compute_cluster_name,
        size="Standard_DS3_v2",
        min_instances=0,
        max_instances=2,
        idle_time_before_scale_down=300
    )
    ml_client.compute.begin_create_or_update(compute_config).result()
    print(f"Cluster de computação {compute_cluster_name} criado com sucesso")
else:
    print(f"Usando cluster de computação existente: {compute_cluster_name}")
```

```python
# Configurar o experimento de AutoML para regressão
regression_job = regression(
    compute=compute_cluster_name,
    experiment_name="automl-sorvete-vendas",
    training_data=Input(type="uri_file", path=registered_data.id),
    target_column_name="vendas",
    primary_metric="r2_score",
    n_cross_validations=5,
    enable_model_explainability=True,
    allowed_models=[
        "ElasticNet", 
        "GradientBoosting", 
        "DecisionTree", 
        "KNN", 
        "LassoLars", 
        "SGD", 
        "RandomForest", 
        "ExtremeRandomTrees", 
        "LightGBM"
    ]
)

# Configurar limites do experimento
regression_job.set_limits(
    timeout_minutes=15,
    trial_timeout_minutes=5,
    max_nodes=2,
    max_trials=10,
    enable_early_termination=True
)
```

## Executando o Experimento AutoML

```python
# Submeter o experimento de AutoML
returned_job = ml_client.jobs.create_or_update(regression_job)
aml_url = returned_job.studio_url
print("Monitor seu experimento no Azure ML Studio:", aml_url)
```

```python
# Aguardar a conclusão do experimento
ml_client.jobs.stream(returned_job.name)
```

## Analisando os Resultados

Após a conclusão do experimento, vamos analisar os resultados:

```python
# Obter o experimento concluído
job_details = ml_client.jobs.get(returned_job.name)
print("Status do experimento:", job_details.status)

# Obter o melhor modelo
best_model = ml_client.jobs.get(job_details.name + "/best_model")
print("\nMelhor modelo:", best_model.name)
print("Métricas do melhor modelo:")
for metric_name, metric_value in best_model.metrics.items():
    print(f"  {metric_name}: {metric_value}")
```

## Registrando o Melhor Modelo

```python
# Registrar o melhor modelo no Azure ML
model_name = "sorvete-vendas-model"
model = ml_client.models.create_or_update(
    Model(
        path=best_model.path,
        name=model_name,
        description="Modelo de previsão de vendas de sorvete baseado na temperatura",
        type="mlflow_model"
    )
)
print(f"Modelo registrado como: {model.name} (Versão: {model.version})")
```

## Implantando o Modelo como Endpoint

```python
# Criar um endpoint online para o modelo
endpoint_name = "sorvete-vendas-endpoint"

endpoint = ManagedOnlineEndpoint(
    name=endpoint_name,
    description="Endpoint para previsão de vendas de sorvete",
    auth_mode="key"
)

try:
    ml_client.online_endpoints.begin_create_or_update(endpoint).result()
    print(f"Endpoint {endpoint_name} criado com sucesso")
except Exception as e:
    print(f"O endpoint já existe ou ocorreu um erro: {e}")
```

```python
# Implantar o modelo no endpoint
deployment_name = "sorvete-deployment"

deployment = ManagedOnlineDeployment(
    name=deployment_name,
    endpoint_name=endpoint_name,
    model=model.id,
    instance_type="Standard_DS2_v2",
    instance_count=1
)

try:
    ml_client.online_deployments.begin_create_or_update(deployment).result()
    print(f"Implantação {deployment_name} criada com sucesso")
    
    # Atualizar o tráfego para o endpoint
    endpoint.traffic = {deployment_name: 100}
    ml_client.online_endpoints.begin_create_or_update(endpoint).result()
except Exception as e:
    print(f"Erro na implantação: {e}")
```

## Testando o Endpoint Implantado

```python
# Preparar alguns dados de teste
test_data = {
    "Inputs": {
        "data": [
            {"temperatura": 25.0},
            {"temperatura": 30.0},
            {"temperatura": 35.0}
        ]
    }
}

# Invocar o endpoint
result = ml_client.online_endpoints.invoke(
    endpoint_name=endpoint_name,
    deployment_name=deployment_name,
    request_file=test_data
)

print("Previsões para os dados de teste:")
for i, temp in enumerate([25.0, 30.0, 35.0]):
    print(f"Temperatura: {temp}°C → Vendas previstas: {result['Results'][i]:.0f} unidades")
```

## Insights de Negócio

Com o modelo treinado e implantado, vamos extrair alguns insights de negócio:

```python
# Criar uma série de temperaturas para previsão
temperature_range = np.arange(15, 39, 1)
temperature_input = {"Inputs": {"data": [{"temperatura": float(t)} for t in temperature_range]}}

# Obter previsões
predictions = ml_client.online_endpoints.invoke(
    endpoint_name=endpoint_name,
    deployment_name=deployment_name,
    request_file=temperature_input
)

# Criar um DataFrame com os resultados
results_df = pd.DataFrame({
    'temperatura': temperature_range,
    'vendas_previstas': predictions['Results']
})

# Definir limiares para categorização
low_threshold = results_df['vendas_previstas'].quantile(0.25)
high_threshold = results_df['vendas_previstas'].quantile(0.75)

# Adicionar categoria
results_df['categoria'] = pd.cut(
    results_df['vendas_previstas'],
    bins=[0, low_threshold, high_threshold, float('inf')],
    labels=['Baixa', 'Média', 'Alta']
)

# Visualizar os resultados
plt.figure(figsize=(12, 6))
colors = {'Baixa': 'blue', 'Média': 'green', 'Alta': 'red'}
for category, group in results_df.groupby('categoria'):
    plt.scatter(group['temperatura'], group['vendas_previstas'], color=colors[category], label=category)

plt.title('Previsão de Vendas de Sorvete por Temperatura')
plt.xlabel('Temperatura (°C)')
plt.ylabel('Vendas Previstas (unidades)')
plt.grid(True)
plt.legend()
plt.show()

# Exibir insights de negócio
print("\n=== Insights de Negócio ===")
print(f"1. Vendas baixas (abaixo de {low_threshold:.0f} unidades): Temperaturas abaixo de {results_df[results_df['categoria'] == 'Baixa']['temperatura'].max():.1f}°C")
print(f"   → Recomendação: Implementar promoções especiais em dias com estas temperaturas")

print(f"\n2. Vendas altas (acima de {high_threshold:.0f} unidades): Temperaturas acima de {results_df[results_df['categoria'] == 'Alta']['temperatura'].min():.1f}°C")
print(f"   → Recomendação: Garantir estoque adicional e considerar staff extra")

print("\n3. Para cada aumento de 5°C na temperatura, estima-se um aumento de aproximadamente:")
temp_increase = 5
temp_base = 20
temp_higher = temp_base + temp_increase
sales_base = float(ml_client.online_endpoints.invoke(
    endpoint_name=endpoint_name,
    deployment_name=deployment_name,
    request_file={"Inputs": {"data": [{"temperatura": temp_base}]}}
)['Results'][0])
sales_higher = float(ml_client.online_endpoints.invoke(
    endpoint_name=endpoint_name,
    deployment_name=deployment_name,
    request_file={"Inputs": {"data": [{"temperatura": temp_higher}]}}
)['Results'][0])
sales_diff = sales_higher - sales_base
print(f"   {sales_diff:.0f} unidades nas vendas ({sales_base:.0f} → {sales_higher:.0f})")
```

## Conclusão

Neste notebook, realizamos:

1. Carregamento e análise exploratória dos dados de vendas de sorvete
2. Treinamento de vários modelos usando o Azure AutoML
3. Registro e implantação do melhor modelo
4. Teste e uso do modelo para extrair insights de negócio

O modelo de previsão desenvolvido pode ajudar a sorveteria Gelato Mágico a otimizar sua produção com base na previsão do tempo, reduzindo desperdícios e maximizando as vendas.

```python
# Limpar recursos (descomente se desejar remover os recursos criados)
# ml_client.online_endpoints.begin_delete(name=endpoint_name).result()
# print(f"Endpoint {endpoint_name} excluído com sucesso")
```
